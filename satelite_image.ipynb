{
 "cells": [
  {
   "cell_type": "markdown",
   "metadata": {},
   "source": [
    "## Download Satellite Images"
   ]
  },
  {
   "cell_type": "code",
   "execution_count": 1,
   "metadata": {},
   "outputs": [
    {
     "name": "stdout",
     "output_type": "stream",
     "text": [
      "Image downloaded successfully!\n"
     ]
    }
   ],
   "source": [
    "import requests\n",
    "from oauthlib.oauth2 import BackendApplicationClient\n",
    "from requests_oauthlib import OAuth2Session\n",
    "\n",
    "# Your client credentials\n",
    "client_id = '26987aa3-8fdd-4bae-b8fa-c5d68e9bf63d'\n",
    "client_secret = 'FXJJQ7BA5%L,%-nIfkMRr(0x+ZvoOX8.emDbVgG2'\n",
    "\n",
    "# Create a session to get the token\n",
    "client = BackendApplicationClient(client_id=client_id)\n",
    "oauth = OAuth2Session(client=client)\n",
    "token = oauth.fetch_token(token_url='https://services.sentinel-hub.com/oauth/token',\n",
    "                          client_secret=client_secret)\n",
    "\n",
    "#print(f'Token: {token}')\n",
    "\n",
    "# SentinelHub API endpoint\n",
    "url = 'https://services.sentinel-hub.com/api/v1/process'\n",
    "\n",
    "# Request body\n",
    "request_body = {\n",
    "    \"input\": {\n",
    "        \"bounds\": {\n",
    "            \"bbox\": [\n",
    "               1360000, 5121900, 1370000, 5131900\n",
    "            ],\n",
    "            \"properties\": {\n",
    "                \"crs\": \"http://www.opengis.net/def/crs/EPSG/0/3857\"\n",
    "            }\n",
    "        },\n",
    "        \"data\": [\n",
    "            {\n",
    "                \"type\": \"sentinel-1-grd\",\n",
    "                \"dataFilter\": {\n",
    "                    \"timeRange\": {\n",
    "                        \"from\": \"2019-02-02T00:00:00Z\",\n",
    "                        \"to\": \"2019-04-02T23:59:59Z\"\n",
    "                    }\n",
    "                },\n",
    "                \"processing\": {\n",
    "                    \"orthorectify\": \"true\"\n",
    "                }\n",
    "            }\n",
    "        ]\n",
    "    },\n",
    "    \"evalscript\": \"\"\"\n",
    "            function setup() {\n",
    "              return {\n",
    "                input: [\"VV\", \"VH\"],  // Update this to match the bands you have in the data\n",
    "                output: { bands: 1 }\n",
    "              };\n",
    "            }\n",
    "\n",
    "            function evaluatePixel(samples) {\n",
    "              const VV = samples.VV;\n",
    "              const VH = samples.VH;\n",
    "              const ratio = VV / VH;\n",
    "\n",
    "              return [ratio];\n",
    "            }\n",
    "        \"\"\",    \n",
    "    \"output\": {\n",
    "        \"width\": 512,\n",
    "        \"height\": 512,\n",
    "        \"responses\": [\n",
    "            {\n",
    "                \"identifier\": \"default\",\n",
    "                \"format\": {\n",
    "                    \"type\": \"image/png\"\n",
    "                }\n",
    "            }\n",
    "        ]\n",
    "    }\n",
    "}\n",
    "\n",
    "# Bearer token for authorization\n",
    "headers = {\n",
    "    \"Authorization\": f\"Bearer {token['access_token']}\"\n",
    "}\n",
    "\n",
    "# Make the API call to download the image\n",
    "response = requests.post(url, json=request_body, headers=headers)\n",
    "\n",
    "# Check if the request was successful\n",
    "if response.status_code == 200:\n",
    "    # Save the image to a file\n",
    "    with open('downloaded_image.png', 'wb') as file:\n",
    "        file.write(response.content)\n",
    "    print(\"Image downloaded successfully!\")\n",
    "else:\n",
    "    print(f\"Error: {response.status_code}, {response.text}\")\n"
   ]
  },
  {
   "cell_type": "code",
   "execution_count": null,
   "metadata": {},
   "outputs": [],
   "source": []
  }
 ],
 "metadata": {
  "kernelspec": {
   "display_name": "sheet-analysis-ti8iLb4E",
   "language": "python",
   "name": "python3"
  },
  "language_info": {
   "codemirror_mode": {
    "name": "ipython",
    "version": 3
   },
   "file_extension": ".py",
   "mimetype": "text/x-python",
   "name": "python",
   "nbconvert_exporter": "python",
   "pygments_lexer": "ipython3",
   "version": "3.10.6"
  },
  "orig_nbformat": 4
 },
 "nbformat": 4,
 "nbformat_minor": 2
}
